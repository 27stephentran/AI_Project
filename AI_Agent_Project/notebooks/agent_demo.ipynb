{
 "cells": [
  {
   "cell_type": "code",
   "execution_count": null,
   "id": "c178defe",
   "metadata": {},
   "outputs": [],
   "source": [
    "from src.model_loader_sentiment import SentimentPipeline\n",
    "\n",
    "sentiment_agent = SentimentPipeline()\n",
    "\n",
    "print(sentiment_agent.predict(\"This movie was amazing!\"))\n",
    "print(sentiment_agent.predict(\"I really hated this film.\"))"
   ]
  }
 ],
 "metadata": {
  "kernelspec": {
   "display_name": "Python 3",
   "language": "python",
   "name": "python3"
  },
  "language_info": {
   "name": "python",
   "version": "3.12.1"
  }
 },
 "nbformat": 4,
 "nbformat_minor": 5
}
