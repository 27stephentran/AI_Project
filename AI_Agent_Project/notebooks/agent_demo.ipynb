{
 "cells": [
  {
   "cell_type": "code",
   "execution_count": null,
   "id": "c178defe",
   "metadata": {},
   "outputs": [],
   "source": [
    "from src.model_loader_sentiment import load_sentiment_model, predict_sentiment\n",
    "import pickle\n",
    "import torch\n",
    "\n",
    "# load word2idx + embedding_matrix (giả sử bạn đã lưu khi train)\n",
    "with open(\"Sentiment_Project/result/word2idx.pkl\", \"rb\") as f:\n",
    "    word2idx = pickle.load(f)\n",
    "embedding_matrix = torch.load(\"Sentiment_Project/result/embedding_matrix.pt\")\n",
    "\n",
    "# load model\n",
    "sentiment_model = load_sentiment_model(embedding_matrix)\n",
    "\n",
    "# test input\n",
    "text1 = \"I really love this movie, it was amazing!\"\n",
    "text2 = \"This film was terrible and boring.\"\n",
    "\n",
    "print(\"Text1:\", predict_sentiment(sentiment_model, text1, None, word2idx))\n",
    "print(\"Text2:\", predict_sentiment(sentiment_model, text2, None, word2idx)) "
   ]
  }
 ],
 "metadata": {
  "kernelspec": {
   "display_name": "Python 3",
   "language": "python",
   "name": "python3"
  },
  "language_info": {
   "name": "python",
   "version": "3.12.1"
  }
 },
 "nbformat": 4,
 "nbformat_minor": 5
}
